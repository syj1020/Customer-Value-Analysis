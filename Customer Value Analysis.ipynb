{
 "cells": [
  {
   "cell_type": "code",
   "execution_count": 2,
   "id": "5e070a43",
   "metadata": {},
   "outputs": [],
   "source": [
    "import pandas as pd\n",
    "import numpy as np\n",
    "import matplotlib.pyplot as plt\n",
    "%matplotlib inline"
   ]
  },
  {
   "cell_type": "markdown",
   "id": "37becfda",
   "metadata": {},
   "source": [
    "## 1. Data Loading"
   ]
  },
  {
   "cell_type": "code",
   "execution_count": 5,
   "id": "472bb357",
   "metadata": {},
   "outputs": [
    {
     "data": {
      "text/html": [
       "<div>\n",
       "<style scoped>\n",
       "    .dataframe tbody tr th:only-of-type {\n",
       "        vertical-align: middle;\n",
       "    }\n",
       "\n",
       "    .dataframe tbody tr th {\n",
       "        vertical-align: top;\n",
       "    }\n",
       "\n",
       "    .dataframe thead th {\n",
       "        text-align: right;\n",
       "    }\n",
       "</style>\n",
       "<table border=\"1\" class=\"dataframe\">\n",
       "  <thead>\n",
       "    <tr style=\"text-align: right;\">\n",
       "      <th></th>\n",
       "      <th>Customer</th>\n",
       "      <th>State</th>\n",
       "      <th>Customer Lifetime Value</th>\n",
       "      <th>Response</th>\n",
       "      <th>Coverage</th>\n",
       "      <th>Education</th>\n",
       "      <th>Effective To Date</th>\n",
       "      <th>EmploymentStatus</th>\n",
       "      <th>Gender</th>\n",
       "      <th>Income</th>\n",
       "      <th>...</th>\n",
       "      <th>Months Since Policy Inception</th>\n",
       "      <th>Number of Open Complaints</th>\n",
       "      <th>Number of Policies</th>\n",
       "      <th>Policy Type</th>\n",
       "      <th>Policy</th>\n",
       "      <th>Renew Offer Type</th>\n",
       "      <th>Sales Channel</th>\n",
       "      <th>Total Claim Amount</th>\n",
       "      <th>Vehicle Class</th>\n",
       "      <th>Vehicle Size</th>\n",
       "    </tr>\n",
       "  </thead>\n",
       "  <tbody>\n",
       "    <tr>\n",
       "      <th>0</th>\n",
       "      <td>BU79786</td>\n",
       "      <td>Washington</td>\n",
       "      <td>2763.519279</td>\n",
       "      <td>No</td>\n",
       "      <td>Basic</td>\n",
       "      <td>Bachelor</td>\n",
       "      <td>2/24/11</td>\n",
       "      <td>Employed</td>\n",
       "      <td>F</td>\n",
       "      <td>56274</td>\n",
       "      <td>...</td>\n",
       "      <td>5</td>\n",
       "      <td>0</td>\n",
       "      <td>1</td>\n",
       "      <td>Corporate Auto</td>\n",
       "      <td>Corporate L3</td>\n",
       "      <td>Offer1</td>\n",
       "      <td>Agent</td>\n",
       "      <td>384.811147</td>\n",
       "      <td>Two-Door Car</td>\n",
       "      <td>Medsize</td>\n",
       "    </tr>\n",
       "    <tr>\n",
       "      <th>1</th>\n",
       "      <td>QZ44356</td>\n",
       "      <td>Arizona</td>\n",
       "      <td>6979.535903</td>\n",
       "      <td>No</td>\n",
       "      <td>Extended</td>\n",
       "      <td>Bachelor</td>\n",
       "      <td>1/31/11</td>\n",
       "      <td>Unemployed</td>\n",
       "      <td>F</td>\n",
       "      <td>0</td>\n",
       "      <td>...</td>\n",
       "      <td>42</td>\n",
       "      <td>0</td>\n",
       "      <td>8</td>\n",
       "      <td>Personal Auto</td>\n",
       "      <td>Personal L3</td>\n",
       "      <td>Offer3</td>\n",
       "      <td>Agent</td>\n",
       "      <td>1131.464935</td>\n",
       "      <td>Four-Door Car</td>\n",
       "      <td>Medsize</td>\n",
       "    </tr>\n",
       "    <tr>\n",
       "      <th>2</th>\n",
       "      <td>AI49188</td>\n",
       "      <td>Nevada</td>\n",
       "      <td>12887.431650</td>\n",
       "      <td>No</td>\n",
       "      <td>Premium</td>\n",
       "      <td>Bachelor</td>\n",
       "      <td>2/19/11</td>\n",
       "      <td>Employed</td>\n",
       "      <td>F</td>\n",
       "      <td>48767</td>\n",
       "      <td>...</td>\n",
       "      <td>38</td>\n",
       "      <td>0</td>\n",
       "      <td>2</td>\n",
       "      <td>Personal Auto</td>\n",
       "      <td>Personal L3</td>\n",
       "      <td>Offer1</td>\n",
       "      <td>Agent</td>\n",
       "      <td>566.472247</td>\n",
       "      <td>Two-Door Car</td>\n",
       "      <td>Medsize</td>\n",
       "    </tr>\n",
       "    <tr>\n",
       "      <th>3</th>\n",
       "      <td>WW63253</td>\n",
       "      <td>California</td>\n",
       "      <td>7645.861827</td>\n",
       "      <td>No</td>\n",
       "      <td>Basic</td>\n",
       "      <td>Bachelor</td>\n",
       "      <td>1/20/11</td>\n",
       "      <td>Unemployed</td>\n",
       "      <td>M</td>\n",
       "      <td>0</td>\n",
       "      <td>...</td>\n",
       "      <td>65</td>\n",
       "      <td>0</td>\n",
       "      <td>7</td>\n",
       "      <td>Corporate Auto</td>\n",
       "      <td>Corporate L2</td>\n",
       "      <td>Offer1</td>\n",
       "      <td>Call Center</td>\n",
       "      <td>529.881344</td>\n",
       "      <td>SUV</td>\n",
       "      <td>Medsize</td>\n",
       "    </tr>\n",
       "    <tr>\n",
       "      <th>4</th>\n",
       "      <td>HB64268</td>\n",
       "      <td>Washington</td>\n",
       "      <td>2813.692575</td>\n",
       "      <td>No</td>\n",
       "      <td>Basic</td>\n",
       "      <td>Bachelor</td>\n",
       "      <td>2/3/11</td>\n",
       "      <td>Employed</td>\n",
       "      <td>M</td>\n",
       "      <td>43836</td>\n",
       "      <td>...</td>\n",
       "      <td>44</td>\n",
       "      <td>0</td>\n",
       "      <td>1</td>\n",
       "      <td>Personal Auto</td>\n",
       "      <td>Personal L1</td>\n",
       "      <td>Offer1</td>\n",
       "      <td>Agent</td>\n",
       "      <td>138.130879</td>\n",
       "      <td>Four-Door Car</td>\n",
       "      <td>Medsize</td>\n",
       "    </tr>\n",
       "  </tbody>\n",
       "</table>\n",
       "<p>5 rows × 24 columns</p>\n",
       "</div>"
      ],
      "text/plain": [
       "  Customer       State  Customer Lifetime Value Response  Coverage Education  \\\n",
       "0  BU79786  Washington              2763.519279       No     Basic  Bachelor   \n",
       "1  QZ44356     Arizona              6979.535903       No  Extended  Bachelor   \n",
       "2  AI49188      Nevada             12887.431650       No   Premium  Bachelor   \n",
       "3  WW63253  California              7645.861827       No     Basic  Bachelor   \n",
       "4  HB64268  Washington              2813.692575       No     Basic  Bachelor   \n",
       "\n",
       "  Effective To Date EmploymentStatus Gender  Income  ...  \\\n",
       "0           2/24/11         Employed      F   56274  ...   \n",
       "1           1/31/11       Unemployed      F       0  ...   \n",
       "2           2/19/11         Employed      F   48767  ...   \n",
       "3           1/20/11       Unemployed      M       0  ...   \n",
       "4            2/3/11         Employed      M   43836  ...   \n",
       "\n",
       "  Months Since Policy Inception Number of Open Complaints  Number of Policies  \\\n",
       "0                             5                         0                   1   \n",
       "1                            42                         0                   8   \n",
       "2                            38                         0                   2   \n",
       "3                            65                         0                   7   \n",
       "4                            44                         0                   1   \n",
       "\n",
       "      Policy Type        Policy  Renew Offer Type  Sales Channel  \\\n",
       "0  Corporate Auto  Corporate L3            Offer1          Agent   \n",
       "1   Personal Auto   Personal L3            Offer3          Agent   \n",
       "2   Personal Auto   Personal L3            Offer1          Agent   \n",
       "3  Corporate Auto  Corporate L2            Offer1    Call Center   \n",
       "4   Personal Auto   Personal L1            Offer1          Agent   \n",
       "\n",
       "  Total Claim Amount  Vehicle Class Vehicle Size  \n",
       "0         384.811147   Two-Door Car      Medsize  \n",
       "1        1131.464935  Four-Door Car      Medsize  \n",
       "2         566.472247   Two-Door Car      Medsize  \n",
       "3         529.881344            SUV      Medsize  \n",
       "4         138.130879  Four-Door Car      Medsize  \n",
       "\n",
       "[5 rows x 24 columns]"
      ]
     },
     "execution_count": 5,
     "metadata": {},
     "output_type": "execute_result"
    }
   ],
   "source": [
    "df = pd.read_csv('Marketing-Customer-Value-Analysis.csv')\n",
    "df.head()"
   ]
  },
  {
   "cell_type": "code",
   "execution_count": 8,
   "id": "01bb8b08",
   "metadata": {},
   "outputs": [
    {
     "data": {
      "text/plain": [
       "(9134, 24)"
      ]
     },
     "execution_count": 8,
     "metadata": {},
     "output_type": "execute_result"
    }
   ],
   "source": [
    "df.shape"
   ]
  },
  {
   "cell_type": "code",
   "execution_count": 6,
   "id": "eb9e84ef",
   "metadata": {},
   "outputs": [
    {
     "name": "stdout",
     "output_type": "stream",
     "text": [
      "<class 'pandas.core.frame.DataFrame'>\n",
      "RangeIndex: 9134 entries, 0 to 9133\n",
      "Data columns (total 24 columns):\n",
      " #   Column                         Non-Null Count  Dtype  \n",
      "---  ------                         --------------  -----  \n",
      " 0   Customer                       9134 non-null   object \n",
      " 1   State                          9134 non-null   object \n",
      " 2   Customer Lifetime Value        9134 non-null   float64\n",
      " 3   Response                       9134 non-null   object \n",
      " 4   Coverage                       9134 non-null   object \n",
      " 5   Education                      9134 non-null   object \n",
      " 6   Effective To Date              9134 non-null   object \n",
      " 7   EmploymentStatus               9134 non-null   object \n",
      " 8   Gender                         9134 non-null   object \n",
      " 9   Income                         9134 non-null   int64  \n",
      " 10  Location Code                  9134 non-null   object \n",
      " 11  Marital Status                 9134 non-null   object \n",
      " 12  Monthly Premium Auto           9134 non-null   int64  \n",
      " 13  Months Since Last Claim        9134 non-null   int64  \n",
      " 14  Months Since Policy Inception  9134 non-null   int64  \n",
      " 15  Number of Open Complaints      9134 non-null   int64  \n",
      " 16  Number of Policies             9134 non-null   int64  \n",
      " 17  Policy Type                    9134 non-null   object \n",
      " 18  Policy                         9134 non-null   object \n",
      " 19  Renew Offer Type               9134 non-null   object \n",
      " 20  Sales Channel                  9134 non-null   object \n",
      " 21  Total Claim Amount             9134 non-null   float64\n",
      " 22  Vehicle Class                  9134 non-null   object \n",
      " 23  Vehicle Size                   9134 non-null   object \n",
      "dtypes: float64(2), int64(6), object(16)\n",
      "memory usage: 1.7+ MB\n"
     ]
    }
   ],
   "source": [
    "df.info()"
   ]
  },
  {
   "cell_type": "code",
   "execution_count": 10,
   "id": "939d4181",
   "metadata": {},
   "outputs": [
    {
     "data": {
      "text/plain": [
       "Index(['Customer', 'State', 'Customer Lifetime Value', 'Response', 'Coverage',\n",
       "       'Education', 'Effective To Date', 'EmploymentStatus', 'Gender',\n",
       "       'Income', 'Location Code', 'Marital Status', 'Monthly Premium Auto',\n",
       "       'Months Since Last Claim', 'Months Since Policy Inception',\n",
       "       'Number of Open Complaints', 'Number of Policies', 'Policy Type',\n",
       "       'Policy', 'Renew Offer Type', 'Sales Channel', 'Total Claim Amount',\n",
       "       'Vehicle Class', 'Vehicle Size'],\n",
       "      dtype='object')"
      ]
     },
     "execution_count": 10,
     "metadata": {},
     "output_type": "execute_result"
    }
   ],
   "source": [
    "df.columns"
   ]
  },
  {
   "cell_type": "code",
   "execution_count": null,
   "id": "3b085790",
   "metadata": {},
   "outputs": [],
   "source": []
  },
  {
   "cell_type": "markdown",
   "id": "348db497",
   "metadata": {},
   "source": [
    "## 2. Exploratory Data Analysis\n",
    "\n",
    "Explore the dataset to understand customer behaviors and reaction to different marketing strategies"
   ]
  },
  {
   "cell_type": "markdown",
   "id": "24835e2c",
   "metadata": {},
   "source": [
    "### 2.1 Marketing Engagement"
   ]
  },
  {
   "cell_type": "code",
   "execution_count": 12,
   "id": "3e3ea036",
   "metadata": {},
   "outputs": [
    {
     "data": {
      "text/plain": [
       "Response\n",
       "No     7826\n",
       "Yes    1308\n",
       "Name: Customer, dtype: int64"
      ]
     },
     "execution_count": 12,
     "metadata": {},
     "output_type": "execute_result"
    }
   ],
   "source": [
    "# Count the number of customers who have responded to the marketing promotion strategies\n",
    "df.groupby('Response').count()['Customer']"
   ]
  },
  {
   "cell_type": "code",
   "execution_count": 16,
   "id": "2390b87a",
   "metadata": {},
   "outputs": [
    {
     "data": {
      "text/plain": [
       "Response\n",
       "No     0.856799\n",
       "Yes    0.143201\n",
       "Name: Customer, dtype: float64"
      ]
     },
     "execution_count": 16,
     "metadata": {},
     "output_type": "execute_result"
    }
   ],
   "source": [
    "# calculate the percentage of customers engaged in the marketing strategies\n",
    "perc = df.groupby('Response').count()['Customer']/df.shape[0]\n",
    "perc"
   ]
  },
  {
   "cell_type": "code",
   "execution_count": 17,
   "id": "ec31fcee",
   "metadata": {},
   "outputs": [
    {
     "data": {
      "text/plain": [
       "1307.9999999999998"
      ]
     },
     "execution_count": 17,
     "metadata": {},
     "output_type": "execute_result"
    }
   ],
   "source": [
    "perc[1] * df.shape[0]"
   ]
  },
  {
   "cell_type": "markdown",
   "id": "68cf0c94",
   "metadata": {},
   "source": [
    "Approximately 14.32% of total customers responded to the marketing calls. Since we have a total of 9134 customers, approximately 1308 customers responded."
   ]
  },
  {
   "cell_type": "code",
   "execution_count": 13,
   "id": "b3deb8b2",
   "metadata": {},
   "outputs": [
    {
     "data": {
      "text/plain": [
       "Text(0, 0.5, 'Count')"
      ]
     },
     "execution_count": 13,
     "metadata": {},
     "output_type": "execute_result"
    },
    {
     "data": {
      "image/png": "[encoded data removed]",
      "text/plain": [
       "<Figure size 432x288 with 1 Axes>"
      ]
     },
     "metadata": {
      "needs_background": "light"
     },
     "output_type": "display_data"
    }
   ],
   "source": [
    "# Create visualization\n",
    "ax = df.groupby('Response').count()['Customer'].plot(kind = 'bar', color='lightblue',grid = True,\n",
    "                                                    title = 'Customer Marketing Engagement')\n",
    "ax.set_xlabel('Engagement')\n",
    "ax.set_ylabel('Count')"
   ]
  },
  {
   "cell_type": "markdown",
   "id": "5e4fa076",
   "metadata": {},
   "source": [
    "### 2.2 Engagement by Offer Type"
   ]
  },
  {
   "cell_type": "code",
   "execution_count": 21,
   "id": "41d9a5be",
   "metadata": {},
   "outputs": [
    {
     "data": {
      "text/plain": [
       "Renew Offer Type\n",
       "Offer1    594\n",
       "Offer2    684\n",
       "Offer3     30\n",
       "Name: Customer, dtype: int64"
      ]
     },
     "execution_count": 21,
     "metadata": {},
     "output_type": "execute_result"
    }
   ],
   "source": [
    "# Count number of engaged customers by different offer type\n",
    "offer_type_df = df.loc[df['Response'] == 'Yes'].groupby(['Renew Offer Type']).count()['Customer']\n",
    "offer_type_df"
   ]
  },
  {
   "cell_type": "code",
   "execution_count": 26,
   "id": "98614f96",
   "metadata": {},
   "outputs": [
    {
     "data": {
      "text/plain": [
       "Renew Offer Type\n",
       "Offer1    0.158316\n",
       "Offer2    0.233766\n",
       "Offer3    0.020950\n",
       "Offer4         NaN\n",
       "Name: Customer, dtype: float64"
      ]
     },
     "execution_count": 26,
     "metadata": {},
     "output_type": "execute_result"
    }
   ],
   "source": [
    "offer_type_rate = offer_type_df / df.groupby('Renew Offer Type').count()['Customer']\n",
    "offer_type_rate"
   ]
  },
  {
   "cell_type": "code",
   "execution_count": 46,
   "id": "be07e766",
   "metadata": {},
   "outputs": [
    {
     "data": {
      "image/png": "[encoded data removed]",
      "text/plain": [
       "<Figure size 432x432 with 1 Axes>"
      ]
     },
     "metadata": {
      "needs_background": "light"
     },
     "output_type": "display_data"
    }
   ],
   "source": [
    "# Visualize the distribution\n",
    "ax1 = offer_type_rate.plot(kind = 'bar', color = 'lightgreen', grid = True, figsize = (6,6),\n",
    "                          title = 'Engaged Customers by Offer Type')\n",
    "ax1.set_xlabel('Offer Type')\n",
    "ax1.set_ylabel('Engagement Rate')\n",
    "plt.show()"
   ]
  },
  {
   "cell_type": "markdown",
   "id": "66dc3b8e",
   "metadata": {},
   "source": [
    "Most customers engaged were in offer type 2, which is 23.38% of total engaged customers. No customers were engaged with offer type 4. The company might want to explore the effectiveness of offer type 4. Additionally, engaged customers with offer type 3 only consists of 2.1% of total engaged customers. The company might also explore the reason behind that (launch time, effectiveness, customer interests...)"
   ]
  },
  {
   "cell_type": "markdown",
   "id": "f0df175b",
   "metadata": {},
   "source": [
    "### 2.3 Offer Type vs Vehicle Class "
   ]
  },
  {
   "cell_type": "code",
   "execution_count": 40,
   "id": "b37ded80",
   "metadata": {},
   "outputs": [
    {
     "data": {
      "text/plain": [
       "Renew Offer Type  Vehicle Class\n",
       "Offer1            Four-Door Car    264\n",
       "                  Luxury Car         6\n",
       "                  Luxury SUV        18\n",
       "                  SUV              168\n",
       "                  Sports Car        42\n",
       "                  Two-Door Car      96\n",
       "Offer2            Four-Door Car    336\n",
       "                  Luxury Car         6\n",
       "                  Luxury SUV        12\n",
       "                  SUV              120\n",
       "                  Sports Car        48\n",
       "                  Two-Door Car     162\n",
       "Offer3            Four-Door Car     24\n",
       "                  Two-Door Car       6\n",
       "Name: Customer, dtype: int64"
      ]
     },
     "execution_count": 40,
     "metadata": {},
     "output_type": "execute_result"
    }
   ],
   "source": [
    "offer_vehicle_df = df.loc[df['Response'] == 'Yes'].groupby(['Renew Offer Type','Vehicle Class']).count()['Customer']\n",
    "offer_vehicle_df"
   ]
  },
  {
   "cell_type": "code",
   "execution_count": 41,
   "id": "7765fe86",
   "metadata": {},
   "outputs": [
    {
     "data": {
      "text/plain": [
       "Renew Offer Type  Vehicle Class\n",
       "Offer1            Four-Door Car    0.070362\n",
       "                  Luxury Car       0.001599\n",
       "                  Luxury SUV       0.004797\n",
       "                  SUV              0.044776\n",
       "                  Sports Car       0.011194\n",
       "                  Two-Door Car     0.025586\n",
       "Offer2            Four-Door Car    0.114833\n",
       "                  Luxury Car       0.002051\n",
       "                  Luxury SUV       0.004101\n",
       "                  SUV              0.041012\n",
       "                  Sports Car       0.016405\n",
       "                  Two-Door Car     0.055366\n",
       "Offer3            Four-Door Car    0.016760\n",
       "                  Two-Door Car     0.004190\n",
       "Name: Customer, dtype: float64"
      ]
     },
     "execution_count": 41,
     "metadata": {},
     "output_type": "execute_result"
    }
   ],
   "source": [
    "offer_vehicle_rate = offer_vehicle_df / df.groupby('Renew Offer Type').count()['Customer']\n",
    "offer_vehicle_rate"
   ]
  },
  {
   "cell_type": "code",
   "execution_count": 45,
   "id": "a32612b1",
   "metadata": {},
   "outputs": [
    {
     "data": {
      "text/html": [
       "<div>\n",
       "<style scoped>\n",
       "    .dataframe tbody tr th:only-of-type {\n",
       "        vertical-align: middle;\n",
       "    }\n",
       "\n",
       "    .dataframe tbody tr th {\n",
       "        vertical-align: top;\n",
       "    }\n",
       "\n",
       "    .dataframe thead tr th {\n",
       "        text-align: left;\n",
       "    }\n",
       "\n",
       "    .dataframe thead tr:last-of-type th {\n",
       "        text-align: right;\n",
       "    }\n",
       "</style>\n",
       "<table border=\"1\" class=\"dataframe\">\n",
       "  <thead>\n",
       "    <tr>\n",
       "      <th></th>\n",
       "      <th colspan=\"6\" halign=\"left\">0</th>\n",
       "    </tr>\n",
       "    <tr>\n",
       "      <th></th>\n",
       "      <th colspan=\"6\" halign=\"left\">Customer</th>\n",
       "    </tr>\n",
       "    <tr>\n",
       "      <th>Vehicle Class</th>\n",
       "      <th>Four-Door Car</th>\n",
       "      <th>Luxury Car</th>\n",
       "      <th>Luxury SUV</th>\n",
       "      <th>SUV</th>\n",
       "      <th>Sports Car</th>\n",
       "      <th>Two-Door Car</th>\n",
       "    </tr>\n",
       "    <tr>\n",
       "      <th>Renew Offer Type</th>\n",
       "      <th></th>\n",
       "      <th></th>\n",
       "      <th></th>\n",
       "      <th></th>\n",
       "      <th></th>\n",
       "      <th></th>\n",
       "    </tr>\n",
       "  </thead>\n",
       "  <tbody>\n",
       "    <tr>\n",
       "      <th>Offer1</th>\n",
       "      <td>0.070362</td>\n",
       "      <td>0.001599</td>\n",
       "      <td>0.004797</td>\n",
       "      <td>0.044776</td>\n",
       "      <td>0.011194</td>\n",
       "      <td>0.025586</td>\n",
       "    </tr>\n",
       "    <tr>\n",
       "      <th>Offer2</th>\n",
       "      <td>0.114833</td>\n",
       "      <td>0.002051</td>\n",
       "      <td>0.004101</td>\n",
       "      <td>0.041012</td>\n",
       "      <td>0.016405</td>\n",
       "      <td>0.055366</td>\n",
       "    </tr>\n",
       "    <tr>\n",
       "      <th>Offer3</th>\n",
       "      <td>0.016760</td>\n",
       "      <td>0.000000</td>\n",
       "      <td>0.000000</td>\n",
       "      <td>0.000000</td>\n",
       "      <td>0.000000</td>\n",
       "      <td>0.004190</td>\n",
       "    </tr>\n",
       "  </tbody>\n",
       "</table>\n",
       "</div>"
      ],
      "text/plain": [
       "                             0                                             \\\n",
       "                      Customer                                              \n",
       "Vehicle Class    Four-Door Car Luxury Car Luxury SUV       SUV Sports Car   \n",
       "Renew Offer Type                                                            \n",
       "Offer1                0.070362   0.001599   0.004797  0.044776   0.011194   \n",
       "Offer2                0.114833   0.002051   0.004101  0.041012   0.016405   \n",
       "Offer3                0.016760   0.000000   0.000000  0.000000   0.000000   \n",
       "\n",
       "                               \n",
       "                               \n",
       "Vehicle Class    Two-Door Car  \n",
       "Renew Offer Type               \n",
       "Offer1               0.025586  \n",
       "Offer2               0.055366  \n",
       "Offer3               0.004190  "
      ]
     },
     "execution_count": 45,
     "metadata": {},
     "output_type": "execute_result"
    }
   ],
   "source": [
    "offer_vehicle_rate = offer_vehicle_rate.unstack().fillna(0)\n",
    "offer_vehicle_rate"
   ]
  },
  {
   "cell_type": "code",
   "execution_count": 57,
   "id": "61e39e50",
   "metadata": {},
   "outputs": [
    {
     "data": {
      "image/png": "[encoded data removed]",
      "text/plain": [
       "<Figure size 720x576 with 1 Axes>"
      ]
     },
     "metadata": {
      "needs_background": "light"
     },
     "output_type": "display_data"
    }
   ],
   "source": [
    "ax2 = offer_vehicle_rate.plot(kind=('bar'), figsize = (10,8), grid=True)\n",
    "ax2.set_ylabel('Engagement Rate')\n",
    "plt.show()"
   ]
  },
  {
   "cell_type": "markdown",
   "id": "fa8f746f",
   "metadata": {},
   "source": [
    "Customers with four-door cars respond more frequently to all types of offers; customers with Luxury SUV respond more to Offer1 than to Offer2; customers with two-door cars reponsd more to Offer2 than to Offer1. This analysis is significant because we can target different groups of customers based on their car types. "
   ]
  },
  {
   "cell_type": "code",
   "execution_count": null,
   "id": "994bf95e",
   "metadata": {},
   "outputs": [],
   "source": []
  },
  {
   "cell_type": "markdown",
   "id": "a509c4ee",
   "metadata": {},
   "source": [
    "### 2.4 Engagement Rates by Sales Channel"
   ]
  },
  {
   "cell_type": "code",
   "execution_count": 59,
   "id": "e0f6fa54",
   "metadata": {},
   "outputs": [
    {
     "data": {
      "text/plain": [
       "Sales Channel\n",
       "Agent          666\n",
       "Branch         294\n",
       "Call Center    192\n",
       "Web            156\n",
       "Name: Customer, dtype: int64"
      ]
     },
     "execution_count": 59,
     "metadata": {},
     "output_type": "execute_result"
    }
   ],
   "source": [
    "sales_channel = df.loc[df['Response'] == 'Yes'].groupby(['Sales Channel']).count()['Customer']\n",
    "sales_channel"
   ]
  },
  {
   "cell_type": "code",
   "execution_count": 61,
   "id": "275e2c04",
   "metadata": {},
   "outputs": [
    {
     "data": {
      "text/plain": [
       "Sales Channel\n",
       "Agent          0.191544\n",
       "Branch         0.114531\n",
       "Call Center    0.108782\n",
       "Web            0.117736\n",
       "Name: Customer, dtype: float64"
      ]
     },
     "execution_count": 61,
     "metadata": {},
     "output_type": "execute_result"
    }
   ],
   "source": [
    "sales_channel_rate = sales_channel/df.groupby('Sales Channel').count()['Customer']\n",
    "sales_channel_rate"
   ]
  },
  {
   "cell_type": "code",
   "execution_count": 62,
   "id": "ef2f7695",
   "metadata": {},
   "outputs": [
    {
     "data": {
      "image/png": "[encoded data removed]",
      "text/plain": [
       "<Figure size 432x288 with 1 Axes>"
      ]
     },
     "metadata": {
      "needs_background": "light"
     },
     "output_type": "display_data"
    }
   ],
   "source": [
    "ax4 = (sales_channel_rate).plot(kind = 'bar', color = 'lightpink', grid = True)\n",
    "ax4.set_ylabel('Engagement Rate')\n",
    "plt.show()"
   ]
  },
  {
   "cell_type": "markdown",
   "id": "17fac4fd",
   "metadata": {},
   "source": [
    "As shown in the graph, customers who were contacted by agents achieve the most responses. The three other sales channels, branch, call center, and web, achieve approximately same levels of responses."
   ]
  },
  {
   "cell_type": "code",
   "execution_count": null,
   "id": "9a85f26a",
   "metadata": {},
   "outputs": [],
   "source": []
  },
  {
   "cell_type": "markdown",
   "id": "31df96ef",
   "metadata": {},
   "source": [
    "### 2.5 Sales Channel vs Vehicle Size"
   ]
  },
  {
   "cell_type": "code",
   "execution_count": 64,
   "id": "969a9545",
   "metadata": {},
   "outputs": [
    {
     "data": {
      "text/plain": [
       "Sales Channel  Vehicle Size\n",
       "Agent          Large            72\n",
       "               Medsize         504\n",
       "               Small            90\n",
       "Branch         Large            54\n",
       "               Medsize         192\n",
       "               Small            48\n",
       "Call Center    Large            24\n",
       "               Medsize         120\n",
       "               Small            48\n",
       "Web            Large            18\n",
       "               Medsize         126\n",
       "               Small            12\n",
       "Name: Customer, dtype: int64"
      ]
     },
     "execution_count": 64,
     "metadata": {},
     "output_type": "execute_result"
    }
   ],
   "source": [
    "sales_channel_vehicle = df.loc[df['Response'] == 'Yes'].groupby(['Sales Channel','Vehicle Size']).count()['Customer']\n",
    "sales_channel_vehicle"
   ]
  },
  {
   "cell_type": "code",
   "execution_count": 66,
   "id": "34523935",
   "metadata": {},
   "outputs": [
    {
     "data": {
      "text/plain": [
       "Sales Channel  Vehicle Size\n",
       "Agent          Large           0.020708\n",
       "               Medsize         0.144953\n",
       "               Small           0.025884\n",
       "Branch         Large           0.021036\n",
       "               Medsize         0.074795\n",
       "               Small           0.018699\n",
       "Call Center    Large           0.013598\n",
       "               Medsize         0.067989\n",
       "               Small           0.027195\n",
       "Web            Large           0.013585\n",
       "               Medsize         0.095094\n",
       "               Small           0.009057\n",
       "Name: Customer, dtype: float64"
      ]
     },
     "execution_count": 66,
     "metadata": {},
     "output_type": "execute_result"
    }
   ],
   "source": [
    "sales_channel_vehicle_rate = sales_channel_vehicle/df.groupby('Sales Channel').count()['Customer']\n",
    "sales_channel_vehicle_rate"
   ]
  },
  {
   "cell_type": "code",
   "execution_count": 84,
   "id": "d96a59c3",
   "metadata": {},
   "outputs": [
    {
     "data": {
      "text/html": [
       "<div>\n",
       "<style scoped>\n",
       "    .dataframe tbody tr th:only-of-type {\n",
       "        vertical-align: middle;\n",
       "    }\n",
       "\n",
       "    .dataframe tbody tr th {\n",
       "        vertical-align: top;\n",
       "    }\n",
       "\n",
       "    .dataframe thead th {\n",
       "        text-align: right;\n",
       "    }\n",
       "</style>\n",
       "<table border=\"1\" class=\"dataframe\">\n",
       "  <thead>\n",
       "    <tr style=\"text-align: right;\">\n",
       "      <th>Vehicle Size</th>\n",
       "      <th>Large</th>\n",
       "      <th>Medsize</th>\n",
       "      <th>Small</th>\n",
       "    </tr>\n",
       "    <tr>\n",
       "      <th>Sales Channel</th>\n",
       "      <th></th>\n",
       "      <th></th>\n",
       "      <th></th>\n",
       "    </tr>\n",
       "  </thead>\n",
       "  <tbody>\n",
       "    <tr>\n",
       "      <th>Agent</th>\n",
       "      <td>0.020708</td>\n",
       "      <td>0.144953</td>\n",
       "      <td>0.025884</td>\n",
       "    </tr>\n",
       "    <tr>\n",
       "      <th>Branch</th>\n",
       "      <td>0.021036</td>\n",
       "      <td>0.074795</td>\n",
       "      <td>0.018699</td>\n",
       "    </tr>\n",
       "    <tr>\n",
       "      <th>Call Center</th>\n",
       "      <td>0.013598</td>\n",
       "      <td>0.067989</td>\n",
       "      <td>0.027195</td>\n",
       "    </tr>\n",
       "    <tr>\n",
       "      <th>Web</th>\n",
       "      <td>0.013585</td>\n",
       "      <td>0.095094</td>\n",
       "      <td>0.009057</td>\n",
       "    </tr>\n",
       "  </tbody>\n",
       "</table>\n",
       "</div>"
      ],
      "text/plain": [
       "Vehicle Size      Large   Medsize     Small\n",
       "Sales Channel                              \n",
       "Agent          0.020708  0.144953  0.025884\n",
       "Branch         0.021036  0.074795  0.018699\n",
       "Call Center    0.013598  0.067989  0.027195\n",
       "Web            0.013585  0.095094  0.009057"
      ]
     },
     "execution_count": 84,
     "metadata": {},
     "output_type": "execute_result"
    }
   ],
   "source": [
    "sales_channel_vehicle_rate = sales_channel_vehicle_rate.unstack().fillna(0)\n",
    "sales_channel_vehicle_rate"
   ]
  },
  {
   "cell_type": "code",
   "execution_count": 85,
   "id": "4cb82333",
   "metadata": {},
   "outputs": [
    {
     "data": {
      "image/png": "[encoded data removed]",
      "text/plain": [
       "<Figure size 432x288 with 1 Axes>"
      ]
     },
     "metadata": {
      "needs_background": "light"
     },
     "output_type": "display_data"
    }
   ],
   "source": [
    "ax5 = sales_channel_vehicle_rate.plot(kind = 'bar', grid = True)\n",
    "ax5.set_ylabel('Engagement Rate')\n",
    "plt.show()"
   ]
  },
  {
   "cell_type": "markdown",
   "id": "1bd5e84f",
   "metadata": {},
   "source": [
    "As shown in the graph, customers with medium sized vehicles respond the most to all sales channels. "
   ]
  },
  {
   "cell_type": "code",
   "execution_count": null,
   "id": "0548c301",
   "metadata": {},
   "outputs": [],
   "source": []
  },
  {
   "cell_type": "markdown",
   "id": "62301ffc",
   "metadata": {},
   "source": [
    "### 2.6 Engagement Rate by Month Since Policy Inception"
   ]
  },
  {
   "cell_type": "code",
   "execution_count": 88,
   "id": "aac3ea7b",
   "metadata": {},
   "outputs": [
    {
     "data": {
      "text/plain": [
       "Months Since Policy Inception\n",
       "0     12\n",
       "1     12\n",
       "2     18\n",
       "3     30\n",
       "4     18\n",
       "      ..\n",
       "93    24\n",
       "94    18\n",
       "95    12\n",
       "96    12\n",
       "99     6\n",
       "Name: Response, Length: 91, dtype: int64"
      ]
     },
     "execution_count": 88,
     "metadata": {},
     "output_type": "execute_result"
    }
   ],
   "source": [
    "df_month = df.loc[df['Response']== 'Yes'].groupby(\n",
    "    'Months Since Policy Inception')['Response'].count()\n",
    "df_month"
   ]
  },
  {
   "cell_type": "code",
   "execution_count": 92,
   "id": "0ed71ec7",
   "metadata": {},
   "outputs": [
    {
     "data": {
      "text/plain": [
       "Months Since Policy Inception\n",
       "0     0.144578\n",
       "1     0.141176\n",
       "2     0.202247\n",
       "3     0.263158\n",
       "4     0.197802\n",
       "        ...   \n",
       "95    0.155844\n",
       "96    0.179104\n",
       "97    0.000000\n",
       "98    0.000000\n",
       "99    0.076923\n",
       "Name: Response, Length: 100, dtype: float64"
      ]
     },
     "execution_count": 92,
     "metadata": {},
     "output_type": "execute_result"
    }
   ],
   "source": [
    "df_month_rate = df_month/df.groupby('Months Since Policy Inception')['Response'].count()\n",
    "df_month_rate = df_month_rate.fillna(0)\n",
    "df_month_rate"
   ]
  },
  {
   "cell_type": "code",
   "execution_count": 93,
   "id": "e63c3b68",
   "metadata": {},
   "outputs": [
    {
     "data": {
      "text/plain": [
       "Text(0, 0.5, 'Months Since Policy Inception')"
      ]
     },
     "execution_count": 93,
     "metadata": {},
     "output_type": "execute_result"
    },
    {
     "data": {
      "image/png": "[encoded data removed]",
      "text/plain": [
       "<Figure size 432x288 with 1 Axes>"
      ]
     },
     "metadata": {
      "needs_background": "light"
     },
     "output_type": "display_data"
    }
   ],
   "source": [
    "ax6 = df_month_rate.plot(title = 'Engagement Rates by Month Since Policy Inception', grid = True, color = 'red')\n",
    "ax6.set_xlabel('Engagement Rate')\n",
    "ax6.set_ylabel('Months Since Policy Inception')"
   ]
  },
  {
   "cell_type": "code",
   "execution_count": null,
   "id": "cc2ded3b",
   "metadata": {},
   "outputs": [],
   "source": []
  },
  {
   "cell_type": "markdown",
   "id": "2f236d4a",
   "metadata": {},
   "source": [
    "## 3. Customer Segmentation\n",
    "\n",
    "Perform customer Segmentation based on customer lifetime value and months since policy inception"
   ]
  },
  {
   "cell_type": "code",
   "execution_count": 95,
   "id": "2b9b683f",
   "metadata": {},
   "outputs": [
    {
     "data": {
      "text/plain": [
       "count     9134.000000\n",
       "mean      8004.940475\n",
       "std       6870.967608\n",
       "min       1898.007675\n",
       "25%       3994.251794\n",
       "50%       5780.182197\n",
       "75%       8962.167041\n",
       "max      83325.381190\n",
       "Name: Customer Lifetime Value, dtype: float64"
      ]
     },
     "execution_count": 95,
     "metadata": {},
     "output_type": "execute_result"
    }
   ],
   "source": [
    "df['Customer Lifetime Value'].describe()"
   ]
  },
  {
   "cell_type": "markdown",
   "id": "79601bcd",
   "metadata": {},
   "source": [
    "As described by the statistics, the customer lifetime value of the dataset range from low as 1898 to high as 83325, which is a really dramatic difference. We would define the customers with a CLV of higher than the median as high-CLV customers, and those with a CLV of lower than the median as low-CLV customers."
   ]
  },
  {
   "cell_type": "code",
   "execution_count": 97,
   "id": "35a9973d",
   "metadata": {},
   "outputs": [
    {
     "data": {
      "text/plain": [
       "Low     4568\n",
       "High    4566\n",
       "Name: CLV, dtype: int64"
      ]
     },
     "execution_count": 97,
     "metadata": {},
     "output_type": "execute_result"
    }
   ],
   "source": [
    "df['CLV'] = df['Customer Lifetime Value'].apply(lambda x: \n",
    "                                               'High' if x > df['Customer Lifetime Value'].median()\n",
    "                                               else 'Low')\n",
    "df['CLV'].value_counts()"
   ]
  },
  {
   "cell_type": "code",
   "execution_count": 98,
   "id": "1967c977",
   "metadata": {},
   "outputs": [
    {
     "data": {
      "text/plain": [
       "Low     4632\n",
       "High    4502\n",
       "Name: Policy Age, dtype: int64"
      ]
     },
     "execution_count": 98,
     "metadata": {},
     "output_type": "execute_result"
    }
   ],
   "source": [
    "df['Policy Age'] = df['Months Since Policy Inception'].apply(lambda x: \n",
    "                                               'High' if x > df['Months Since Policy Inception'].median()\n",
    "                                               else 'Low')\n",
    "df['Policy Age'].value_counts()"
   ]
  },
  {
   "cell_type": "code",
   "execution_count": 108,
   "id": "18a270eb",
   "metadata": {},
   "outputs": [
    {
     "data": {
      "image/png": "[encoded data removed]",
      "text/plain": [
       "<Figure size 432x288 with 1 Axes>"
      ]
     },
     "metadata": {
      "needs_background": "light"
     },
     "output_type": "display_data"
    }
   ],
   "source": [
    "ax_seg = df.loc[\n",
    "    (df['CLV'] == 'High') & (df['Policy Age'] == 'High')\n",
    "].plot.scatter(\n",
    "    x = 'Months Since Policy Inception',\n",
    "    y = 'Customer Lifetime Value',\n",
    "    color = 'pink',\n",
    "    logy = True\n",
    ")\n",
    "\n",
    "df.loc[\n",
    "    (df['CLV'] == 'Low') & (df['Policy Age'] == 'High')\n",
    "].plot.scatter(\n",
    "    ax=ax_seg,\n",
    "    x = 'Months Since Policy Inception',\n",
    "    y = 'Customer Lifetime Value',\n",
    "    color = 'yellow',\n",
    "    logy = True\n",
    ")\n",
    "\n",
    "df.loc[\n",
    "    (df['CLV'] == 'High') & (df['Policy Age'] == 'Low')\n",
    "].plot.scatter(\n",
    "    ax=ax_seg,\n",
    "    x = 'Months Since Policy Inception',\n",
    "    y = 'Customer Lifetime Value',\n",
    "    color = 'lightblue',\n",
    "    logy = True\n",
    ")\n",
    "\n",
    "df.loc[\n",
    "    (df['CLV'] == 'Low') & (df['Policy Age'] == 'Low')\n",
    "].plot.scatter(\n",
    "    ax=ax_seg,\n",
    "    x = 'Months Since Policy Inception',\n",
    "    y = 'Customer Lifetime Value',\n",
    "    color = 'lightgreen',\n",
    "    grid = True,\n",
    "    logy = True\n",
    ")\n",
    "\n",
    "ax_seg.set_ylabel('CLV')\n",
    "ax_seg.set_xlabel('Months Since Policy Inception')\n",
    "ax_seg.set_title('Customer Segmentation by CLV and Policy Age')\n",
    "plt.show()"
   ]
  },
  {
   "cell_type": "markdown",
   "id": "94e1546c",
   "metadata": {},
   "source": [
    "Since the range for customers with 'High' for CLV is very large and the values are skewed at the high level values, I have used logy=True to transform the values based on a log scale."
   ]
  },
  {
   "cell_type": "code",
   "execution_count": 110,
   "id": "482ffc11",
   "metadata": {},
   "outputs": [
    {
     "data": {
      "text/plain": [
       "CLV   Policy Age\n",
       "High  High          312\n",
       "      Low           306\n",
       "Low   High          366\n",
       "      Low           324\n",
       "Name: Customer, dtype: int64"
      ]
     },
     "execution_count": 110,
     "metadata": {},
     "output_type": "execute_result"
    }
   ],
   "source": [
    "engagement_segment = df.loc[df['Response'] == 'Yes'\n",
    "                           ].groupby(['CLV','Policy Age']).count()['Customer']\n",
    "engagement_segment"
   ]
  },
  {
   "cell_type": "code",
   "execution_count": 113,
   "id": "a0a8dae5",
   "metadata": {},
   "outputs": [
    {
     "data": {
      "text/html": [
       "<div>\n",
       "<style scoped>\n",
       "    .dataframe tbody tr th:only-of-type {\n",
       "        vertical-align: middle;\n",
       "    }\n",
       "\n",
       "    .dataframe tbody tr th {\n",
       "        vertical-align: top;\n",
       "    }\n",
       "\n",
       "    .dataframe thead th {\n",
       "        text-align: right;\n",
       "    }\n",
       "</style>\n",
       "<table border=\"1\" class=\"dataframe\">\n",
       "  <thead>\n",
       "    <tr style=\"text-align: right;\">\n",
       "      <th>Policy Age</th>\n",
       "      <th>High</th>\n",
       "      <th>Low</th>\n",
       "    </tr>\n",
       "    <tr>\n",
       "      <th>CLV</th>\n",
       "      <th></th>\n",
       "      <th></th>\n",
       "    </tr>\n",
       "  </thead>\n",
       "  <tbody>\n",
       "    <tr>\n",
       "      <th>High</th>\n",
       "      <td>0.138728</td>\n",
       "      <td>0.132067</td>\n",
       "    </tr>\n",
       "    <tr>\n",
       "      <th>Low</th>\n",
       "      <td>0.162450</td>\n",
       "      <td>0.139957</td>\n",
       "    </tr>\n",
       "  </tbody>\n",
       "</table>\n",
       "</div>"
      ],
      "text/plain": [
       "Policy Age      High       Low\n",
       "CLV                           \n",
       "High        0.138728  0.132067\n",
       "Low         0.162450  0.139957"
      ]
     },
     "execution_count": 113,
     "metadata": {},
     "output_type": "execute_result"
    }
   ],
   "source": [
    "engagement_segment_rate = engagement_segment / df.groupby(['CLV','Policy Age']).count()['Customer']\n",
    "engagement_segment_rate = engagement_segment_rate.unstack()\n",
    "engagement_segment_rate"
   ]
  },
  {
   "cell_type": "code",
   "execution_count": 114,
   "id": "d3eb7164",
   "metadata": {},
   "outputs": [
    {
     "data": {
      "image/png": "[encoded data removed]",
      "text/plain": [
       "<Figure size 432x288 with 1 Axes>"
      ]
     },
     "metadata": {
      "needs_background": "light"
     },
     "output_type": "display_data"
    }
   ],
   "source": [
    "ax_new = engagement_segment_rate.plot(kind = 'bar',\n",
    "                                     grid = True)\n",
    "ax_new.set_ylabel('Engagement Rate')\n",
    "ax_new.set_title('Engagement Rate by Customer Segmentation')\n",
    "plt.show()"
   ]
  },
  {
   "cell_type": "markdown",
   "id": "a7bf3c21",
   "metadata": {},
   "source": [
    "According to the plot, customers who have had policies with the company for a longer period have a higher engagement rate compared to those with shorter policy durations. This indicates that long-standing customers are more responsive. Additionally, among all customer segments, the group with a high policy age and low customer lifetime value (CLV) exhibits the highest engagement rate.\n",
    "\n",
    "Based on the analysis, we can use the response rates to design different marketing messages according to the characteristics of different customer segments."
   ]
  }
 ],
 "metadata": {
  "kernelspec": {
   "display_name": "Python 3 (ipykernel)",
   "language": "python",
   "name": "python3"
  },
  "language_info": {
   "codemirror_mode": {
    "name": "ipython",
    "version": 3
   },
   "file_extension": ".py",
   "mimetype": "text/x-python",
   "name": "python",
   "nbconvert_exporter": "python",
   "pygments_lexer": "ipython3",
   "version": "3.9.7"
  }
 },
 "nbformat": 4,
 "nbformat_minor": 5
}
